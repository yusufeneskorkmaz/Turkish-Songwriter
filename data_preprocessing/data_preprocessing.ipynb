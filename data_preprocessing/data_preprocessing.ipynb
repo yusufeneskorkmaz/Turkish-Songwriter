{
 "cells": [
  {
   "cell_type": "code",
   "execution_count": 2,
   "id": "dc132f4b-7f03-41d1-b3ef-7933c2c66f07",
   "metadata": {},
   "outputs": [],
   "source": [
    "import pandas as pd\n",
    "import numpy as np\n",
    "import json\n",
    "import re\n",
    "from collections import Counter\n",
    "from sklearn.feature_extraction.text import TfidfVectorizer\n",
    "\n",
    "# Load Turkish stopwords\n",
    "with open('turkish_stopwords.json', 'r', encoding='utf-8') as f:\n",
    "    stop_words = set(json.load(f))"
   ]
  },
  {
   "cell_type": "code",
   "execution_count": 4,
   "id": "6c561be5-3af2-4f44-b2f3-faf32da680cd",
   "metadata": {},
   "outputs": [],
   "source": [
    "def preprocess_text(text):\n",
    "    \"\"\"Preprocess the text\"\"\"\n",
    "    text = text.lower()\n",
    "    text = re.sub(r'[^a-zçğıöşü0-9\\s]', '', text)  # Keep Turkish characters and spaces\n",
    "    words = text.split()\n",
    "    return ' '.join(word for word in words if word not in stop_words)"
   ]
  },
  {
   "cell_type": "code",
   "execution_count": 6,
   "id": "fd29cce7-460d-45b7-b3ec-8ff3f0d8d5b3",
   "metadata": {},
   "outputs": [],
   "source": [
    "# Load the dataset\n",
    "df = pd.read_csv('turkish_song_lyrics.csv')\n",
    "\n",
    "# Preprocess lyrics\n",
    "df['processed_lyrics'] = df['lyrics'].apply(preprocess_text)"
   ]
  },
  {
   "cell_type": "code",
   "execution_count": 8,
   "id": "95deafc4-3a2e-4532-8b51-39bd43ff321c",
   "metadata": {},
   "outputs": [],
   "source": [
    "# Apply TF-IDF vectorization\n",
    "tfidf = TfidfVectorizer(max_features=1000)  # Get the most important 1000 words\n",
    "tfidf_matrix = tfidf.fit_transform(df['processed_lyrics'])\n",
    "\n",
    "# Calculate average TF-IDF vector for each singer\n",
    "singer_vectors = {}\n",
    "for singer in df['singer'].unique():\n",
    "    singer_mask = df['singer'] == singer\n",
    "    singer_vectors[singer] = tfidf_matrix[singer_mask].mean(axis=0).A.flatten()\n",
    "\n",
    "# Convert singer vectors to DataFrame\n",
    "singer_df = pd.DataFrame.from_dict(singer_vectors, orient='index')\n",
    "singer_df.columns = tfidf.get_feature_names_out()"
   ]
  },
  {
   "cell_type": "code",
   "execution_count": 10,
   "id": "f54c799c-6434-492b-853d-bb66028b71fd",
   "metadata": {},
   "outputs": [],
   "source": [
    "# Find the most characteristic words for each singer\n",
    "def get_top_words(row, n=10):\n",
    "    return [(word, score) for word, score in sorted(zip(row.index, row), key=lambda x: x[1], reverse=True)[:n]]\n",
    "\n",
    "singer_top_words = singer_df.apply(get_top_words, axis=1)\n",
    "\n",
    "# Combine results in a new DataFrame\n",
    "result_df = pd.DataFrame({\n",
    "    'singer': df['singer'].unique(),\n",
    "    'top_words': singer_top_words\n",
    "})"
   ]
  },
  {
   "cell_type": "code",
   "execution_count": 12,
   "id": "1d7241da-6bf9-4cf2-8378-02d5e12bf87c",
   "metadata": {},
   "outputs": [],
   "source": [
    "# Calculate the usage rate of characteristic words for each song\n",
    "def calculate_characteristic_word_usage(lyrics, top_words):\n",
    "    words = set(lyrics.split())\n",
    "    top_word_set = set(word for word, _ in top_words)\n",
    "    return len(words.intersection(top_word_set)) / len(words) if words else 0\n",
    "\n",
    "df['characteristic_word_usage'] = df.apply(lambda row: calculate_characteristic_word_usage(\n",
    "    row['processed_lyrics'], \n",
    "    result_df[result_df['singer'] == row['singer']]['top_words'].iloc[0]\n",
    "), axis=1)"
   ]
  },
  {
   "cell_type": "code",
   "execution_count": 14,
   "id": "22a45d5a-9d73-43a9-aedd-e23db761564e",
   "metadata": {},
   "outputs": [],
   "source": [
    "# Save the results\n",
    "output_df = df[['singer', 'lyrics', 'processed_lyrics', 'characteristic_word_usage']]\n",
    "output_df = output_df.merge(result_df[['singer', 'top_words']], on='singer', how='left')\n",
    "output_df = output_df.drop_duplicates(subset=['singer', 'lyrics'])\n",
    "\n",
    "output_df.to_csv('processed_turkish_lyrics.csv', index=False)"
   ]
  },
  {
   "cell_type": "code",
   "execution_count": 16,
   "id": "e2c3f0b7-6901-498f-b528-64500f21ade9",
   "metadata": {},
   "outputs": [
    {
     "name": "stdout",
     "output_type": "stream",
     "text": [
      "count    4952.000000\n",
      "mean        0.063765\n",
      "std         0.036377\n",
      "min         0.000000\n",
      "25%         0.036340\n",
      "50%         0.058824\n",
      "75%         0.085714\n",
      "max         0.294118\n",
      "Name: characteristic_word_usage, dtype: float64\n",
      "\n",
      "Sample singers and their most characteristic words:\n",
      "                                                           top_words\n",
      "singer                                                              \n",
      "Ahmet Kaya         [(bir, 0.0954012355187354), (beni, 0.044687668...\n",
      "Barış Manço        [(bir, 0.07542210759407574), (the, 0.041491916...\n",
      "Büyük Ev Ablukada  [(bi, 0.10516404985444336), (gibi, 0.089592342...\n",
      "Can Bonomo         [(bir, 0.07463970292919377), (sen, 0.069707164...\n",
      "Candan Erçetin     [(je, 0.06657468480379185), (de, 0.05194479129...\n"
     ]
    }
   ],
   "source": [
    "# Print summary statistics\n",
    "print(output_df['characteristic_word_usage'].describe())\n",
    "print(\"\\nSample singers and their most characteristic words:\")\n",
    "print(output_df[['singer', 'top_words']].groupby('singer').first().head())"
   ]
  },
  {
   "cell_type": "code",
   "execution_count": null,
   "id": "a3e4a1a0-1501-401b-8419-b27574c545c3",
   "metadata": {},
   "outputs": [],
   "source": []
  }
 ],
 "metadata": {
  "kernelspec": {
   "display_name": "Python 3 (ipykernel)",
   "language": "python",
   "name": "python3"
  },
  "language_info": {
   "codemirror_mode": {
    "name": "ipython",
    "version": 3
   },
   "file_extension": ".py",
   "mimetype": "text/x-python",
   "name": "python",
   "nbconvert_exporter": "python",
   "pygments_lexer": "ipython3",
   "version": "3.12.4"
  }
 },
 "nbformat": 4,
 "nbformat_minor": 5
}
